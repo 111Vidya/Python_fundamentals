{
  "metadata": {
    "language_info": {
      "codemirror_mode": {
        "name": "ipython",
        "version": 3
      },
      "file_extension": ".py",
      "mimetype": "text/x-python",
      "name": "python",
      "nbconvert_exporter": "python",
      "pygments_lexer": "ipython3",
      "version": "3.8.3"
    },
    "orig_nbformat": 4,
    "kernelspec": {
      "name": "python3",
      "display_name": "Python 3.8.3 64-bit ('base': conda)"
    },
    "interpreter": {
      "hash": "bdbc52f19def82bcfacfd08a201092a639f70f8c1bf5c99b3336657ba5cbe504"
    },
    "colab": {
      "provenance": [],
      "include_colab_link": true
    }
  },
  "nbformat": 4,
  "nbformat_minor": 0,
  "cells": [
    {
      "cell_type": "markdown",
      "metadata": {
        "id": "view-in-github",
        "colab_type": "text"
      },
      "source": [
        "<a href=\"https://colab.research.google.com/github/111Vidya/Python_fundamentals/blob/main/Mar_22_Naive_Bayes_Spam_classifier.ipynb\" target=\"_parent\"><img src=\"https://colab.research.google.com/assets/colab-badge.svg\" alt=\"Open In Colab\"/></a>"
      ]
    },
    {
      "cell_type": "code",
      "execution_count": null,
      "metadata": {
        "colab": {
          "base_uri": "https://localhost:8080/"
        },
        "id": "bg4Zp2JcMWla",
        "outputId": "8068922e-b5a0-4d98-e86a-70bd28ff2fe7"
      },
      "outputs": [
        {
          "output_type": "stream",
          "name": "stdout",
          "text": [
            "Requirement already satisfied: joblib in /usr/local/lib/python3.10/dist-packages (1.3.2)\n",
            "              precision    recall  f1-score   support\n",
            "\n",
            "           0       0.99      0.99      0.99      1587\n",
            "           1       0.93      0.92      0.92       252\n",
            "\n",
            "    accuracy                           0.98      1839\n",
            "   macro avg       0.96      0.95      0.96      1839\n",
            "weighted avg       0.98      0.98      0.98      1839\n",
            "\n"
          ]
        }
      ],
      "source": [
        "#!/usr/bin/env python3\n",
        "# -*- coding: utf-8 -*-\n",
        "\"\"\"\n",
        "Created on Thu Nov  7 18:11:36 2019\n",
        "\n",
        "@author: srinivasgurrala\n",
        "\"\"\"\n",
        "!pip install joblib\n",
        "import pandas as pd\n",
        "import numpy as np\n",
        "from sklearn.feature_extraction.text import CountVectorizer #convert text to numbers\n",
        "from sklearn.model_selection import train_test_split # split data to train and test\n",
        "from sklearn.naive_bayes import MultinomialNB # Naive Bayes library\n",
        "from sklearn.metrics import classification_report\n",
        "\n",
        "df = pd.read_csv('spam.csv', encoding=\"latin-1\")\n",
        "names=['class','message'] # Data already has col names .this fn can be ignored\n",
        "df.columns=names\n",
        "df['label'] = df['class'].map({'ham': 0, 'spam': 1})\n",
        "X = df['message'] # Input\n",
        "y = df['label'] # output\n",
        "cv = CountVectorizer() # Intialize countvector\n",
        "X = cv.fit_transform(X) # Fit and transform the Data\n",
        "X_train, X_test, y_train, y_test = train_test_split(X, y, test_size=0.33, random_state=42)\n",
        "#Naive Bayes Classifier\n",
        "clf = MultinomialNB()\n",
        "clf.fit(X_train,y_train)\n",
        "clf.score(X_test,y_test)\n",
        "y_pred = clf.predict(X_test) # Predict\n",
        "print(classification_report(y_test, y_pred))\n",
        "\n",
        "import joblib # Ignore for now below fn\n",
        "joblib.dump(clf, 'NB_spam_model.pkl')\n",
        "\n",
        "NB_spam_model = open('NB_spam_model.pkl','rb')\n",
        "clf = joblib.load(NB_spam_model)\n"
      ]
    },
    {
      "cell_type": "markdown",
      "source": [
        "99% accuracy to identify ham(0)\n",
        "92% accuracy to identify Spam(1)\n",
        "Over all avg accuracy 98%"
      ],
      "metadata": {
        "id": "APGfJ11dRP7C"
      }
    },
    {
      "cell_type": "code",
      "execution_count": null,
      "metadata": {
        "id": "X2M3RN48MWld"
      },
      "outputs": [],
      "source": []
    }
  ]
}