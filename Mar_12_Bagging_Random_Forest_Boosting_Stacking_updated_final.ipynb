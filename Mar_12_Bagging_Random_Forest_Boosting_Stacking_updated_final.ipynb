{
  "cells": [
    {
      "cell_type": "markdown",
      "metadata": {
        "id": "view-in-github",
        "colab_type": "text"
      },
      "source": [
        "<a href=\"https://colab.research.google.com/github/111Vidya/Python_fundamentals/blob/main/Mar_12_Bagging_Random_Forest_Boosting_Stacking_updated_final.ipynb\" target=\"_parent\"><img src=\"https://colab.research.google.com/assets/colab-badge.svg\" alt=\"Open In Colab\"/></a>"
      ]
    },
    {
      "cell_type": "code",
      "execution_count": null,
      "metadata": {
        "ExecuteTime": {
          "end_time": "2020-10-31T13:03:26.725320Z",
          "start_time": "2020-10-31T13:02:49.971705Z"
        },
        "colab": {
          "base_uri": "https://localhost:8080/"
        },
        "id": "qEtimDyMritZ",
        "outputId": "32a217a8-cca3-4ac4-847e-5e16fbb68e36"
      },
      "outputs": [
        {
          "output_type": "stream",
          "name": "stdout",
          "text": [
            "0.7655502392344498\n"
          ]
        }
      ],
      "source": [
        "#dataset does not have col names . we provide it and class is the TV to predict diabetes 1yes 0No\n",
        "# Bagged Decision Trees for Classification\n",
        "#Collection of DT and calc avg of all accuracy\n",
        "import warnings\n",
        "warnings.filterwarnings('ignore')\n",
        "from pandas import read_csv\n",
        "from sklearn.model_selection import KFold # Divide datasets into smaller subsets to create multiple ML model.\n",
        "from sklearn.model_selection import cross_val_score # Finding accuracy in each fold/suset and ML model\n",
        "from sklearn.ensemble import BaggingClassifier #. bagging model\n",
        "from sklearn.tree import DecisionTreeClassifier # dt fn\n",
        "filename = 'pima-indians-diabetes.data.csv'\n",
        "names = ['preg', 'plas', 'pres', 'skin', 'test', 'mass', 'pedi', 'age', 'class']\n",
        "dataframe = read_csv(filename, names=names)\n",
        "array = dataframe.values\n",
        "X = array[:,0:8]\n",
        "Y = array[:,8]\n",
        " # Split the dataset into 10 subsets. Random state 42 to get same results every time\n",
        "kfold = KFold(n_splits=10, random_state=42, shuffle = True)\n",
        "cart = DecisionTreeClassifier()\n",
        " # 500 DT applied on every subset of data and calculate accuracy and check the avg accuracy from all subsets\n",
        "num_trees = 500\n",
        "model = BaggingClassifier(base_estimator=cart, n_estimators=num_trees, random_state=42)\n",
        "results = cross_val_score(model, X, Y, cv=kfold)\n",
        "print(results.mean())"
      ]
    },
    {
      "cell_type": "code",
      "execution_count": null,
      "metadata": {
        "ExecuteTime": {
          "end_time": "2020-10-31T13:03:37.715449Z",
          "start_time": "2020-10-31T13:03:35.606094Z"
        },
        "colab": {
          "base_uri": "https://localhost:8080/"
        },
        "id": "JmPweJZiritd",
        "outputId": "0071ab36-c416-42a5-afc2-b4600fd207f2"
      },
      "outputs": [
        {
          "output_type": "stream",
          "name": "stdout",
          "text": [
            "0.7694634313055365\n"
          ]
        }
      ],
      "source": [
        "# Random Forest Classification everything is same except random classifier fn.\n",
        "#no. of trees 100 and max features is 3 supplied to each DT and get avg accuracy\n",
        "from pandas import read_csv\n",
        "from sklearn.model_selection import KFold\n",
        "from sklearn.model_selection import cross_val_score\n",
        "from sklearn.ensemble import RandomForestClassifier\n",
        "\n",
        "X = array[:,0:8]\n",
        "Y = array[:,8]\n",
        "num_trees = 100\n",
        "max_features = 3\n",
        "kfold = KFold(n_splits=10, random_state=42, shuffle = True)\n",
        "model = RandomForestClassifier(n_estimators=num_trees, max_features=max_features, random_state=42)\n",
        "results = cross_val_score(model, X, Y, cv=kfold)\n",
        "print(results.mean())"
      ]
    },
    {
      "cell_type": "code",
      "execution_count": null,
      "metadata": {
        "ExecuteTime": {
          "end_time": "2020-10-31T13:03:50.350283Z",
          "start_time": "2020-10-31T13:03:49.968302Z"
        },
        "colab": {
          "base_uri": "https://localhost:8080/"
        },
        "id": "1YhWC47trite",
        "outputId": "31f1f77e-7e1f-4b89-83ac-71393da79bb8"
      },
      "outputs": [
        {
          "output_type": "stream",
          "name": "stdout",
          "text": [
            "0.7577751196172249\n"
          ]
        }
      ],
      "source": [
        "# AdaBoost Classification\n",
        "#No of split 10\n",
        "from pandas import read_csv\n",
        "from sklearn.model_selection import KFold\n",
        "from sklearn.model_selection import cross_val_score\n",
        "from sklearn.ensemble import AdaBoostClassifier # Ada Boost fn\n",
        "filename = 'pima-indians-diabetes.data.csv'\n",
        "names = ['preg', 'plas', 'pres', 'skin', 'test', 'mass', 'pedi', 'age', 'class']\n",
        "dataframe = read_csv(filename, names=names)\n",
        "array = dataframe.values\n",
        "\n",
        "X = array[:,0:8]\n",
        "Y = array[:,8]\n",
        "\n",
        "num_trees = 10 # No. oftrees\n",
        "kfold = KFold(n_splits=10, random_state=42, shuffle = True) #shuffle =rearrange obs before splitting data\n",
        "model = AdaBoostClassifier(n_estimators=num_trees, random_state=42)\n",
        "results = cross_val_score(model, X, Y, cv=kfold) # cv=Cross validations each and every subset find accuracy\n",
        "print(results.mean())\n"
      ]
    },
    {
      "cell_type": "code",
      "execution_count": null,
      "metadata": {
        "ExecuteTime": {
          "end_time": "2020-10-31T13:04:13.118687Z",
          "start_time": "2020-10-31T13:04:11.937925Z"
        },
        "colab": {
          "base_uri": "https://localhost:8080/"
        },
        "id": "aYBXx1q1ritf",
        "outputId": "27579fe9-453e-4938-c614-4aa14a8abf58"
      },
      "outputs": [
        {
          "output_type": "stream",
          "name": "stdout",
          "text": [
            "0.7708133971291866\n"
          ]
        }
      ],
      "source": [
        "# Stacking Ensemble for Classification. Hetrogeneous ML Model.\n",
        "#Creating Logistic regression, DT, voting classifier, SVC\n",
        "from pandas import read_csv\n",
        "from sklearn.model_selection import KFold\n",
        "from sklearn.model_selection import cross_val_score\n",
        "from sklearn.linear_model import LogisticRegression\n",
        "from sklearn.tree import DecisionTreeClassifier\n",
        "from sklearn.svm import SVC\n",
        "from sklearn.ensemble import VotingClassifier\n",
        "filename = 'pima-indians-diabetes.data.csv'\n",
        "names = ['preg', 'plas', 'pres', 'skin', 'test', 'mass', 'pedi', 'age', 'class']\n",
        "dataframe = read_csv(filename, names=names)\n",
        "array = dataframe.values\n",
        "X = array[:,0:8]\n",
        "Y = array[:,8]\n",
        "kfold = KFold(n_splits=10, random_state=42, shuffle = True)\n",
        "\n",
        "# create the sub models\n",
        "estimators = []\n",
        "model1 = LogisticRegression(max_iter=500, random_state=42)\n",
        "estimators.append(('logistic', model1))\n",
        "model2 = DecisionTreeClassifier(random_state=42)\n",
        "estimators.append(('cart', model2))\n",
        "model3 = SVC(random_state=42)\n",
        "estimators.append(('svm', model3))\n",
        "\n",
        "# create the ensemble model\n",
        "ensemble = VotingClassifier(estimators)\n",
        "results = cross_val_score(ensemble, X, Y, cv=kfold)\n",
        "print(results.mean()) # Stacking has highest accuracy"
      ]
    },
    {
      "cell_type": "code",
      "execution_count": null,
      "metadata": {
        "id": "AJlt5wpNritg"
      },
      "outputs": [],
      "source": []
    }
  ],
  "metadata": {
    "kernelspec": {
      "display_name": "Python 3",
      "language": "python",
      "name": "python3"
    },
    "language_info": {
      "codemirror_mode": {
        "name": "ipython",
        "version": 3
      },
      "file_extension": ".py",
      "mimetype": "text/x-python",
      "name": "python",
      "nbconvert_exporter": "python",
      "pygments_lexer": "ipython3",
      "version": "3.7.3"
    },
    "varInspector": {
      "cols": {
        "lenName": 16,
        "lenType": 16,
        "lenVar": 40
      },
      "kernels_config": {
        "python": {
          "delete_cmd_postfix": "",
          "delete_cmd_prefix": "del ",
          "library": "var_list.py",
          "varRefreshCmd": "print(var_dic_list())"
        },
        "r": {
          "delete_cmd_postfix": ") ",
          "delete_cmd_prefix": "rm(",
          "library": "var_list.r",
          "varRefreshCmd": "cat(var_dic_list()) "
        }
      },
      "types_to_exclude": [
        "module",
        "function",
        "builtin_function_or_method",
        "instance",
        "_Feature"
      ],
      "window_display": false
    },
    "colab": {
      "provenance": [],
      "include_colab_link": true
    }
  },
  "nbformat": 4,
  "nbformat_minor": 0
}